{
 "cells": [
  {
   "cell_type": "markdown",
   "metadata": {
    "id": "d-GDdO3Y8--B"
   },
   "source": [
    "# Project 1:  Python Data Structures -- Solution"
   ]
  },
  {
   "cell_type": "markdown",
   "metadata": {
    "id": "WuyLOEDL9Hiy"
   },
   "source": [
    "## Overview"
   ]
  },
  {
   "cell_type": "markdown",
   "metadata": {
    "id": "ImyJBh0jrf-1"
   },
   "source": [
    "This notebook is to practice hands-on learning of python data types (ints, strings, booleans, etc.), data structures (lists, dictionaries, tuples), functions, and loops."
   ]
  },
  {
   "cell_type": "markdown",
   "metadata": {
    "id": "1tE6Fzmg83hR"
   },
   "source": [
    "### Question 1:  In the cell below import the CSV module"
   ]
  },
  {
   "cell_type": "code",
   "execution_count": 2,
   "metadata": {
    "id": "Wm0HxEFA8tog"
   },
   "outputs": [],
   "source": [
    "#Import the csv module\n",
    "import csv"
   ]
  },
  {
   "cell_type": "markdown",
   "metadata": {
    "id": "i9iLJmgp9KKd"
   },
   "source": [
    "### Question 2:  Fill in the blanks in the code below to open the csv file and store each row in the file in the empty list called `data` use the `DictReader` method to open the file and assign it to `reader`"
   ]
  },
  {
   "cell_type": "code",
   "execution_count": 4,
   "metadata": {
    "id": "iv7F2Ql58oe2"
   },
   "outputs": [],
   "source": [
    "def open_taxi_data(filename, max_rows=None):\n",
    "  \"\"\"Opens the taxi trip data file and returns a list of rows.\n",
    "\n",
    "  Args:\n",
    "      filename: The path to the CSV file.\n",
    "      max_rows: Maximum number of rows to read (default: None for all rows).\n",
    "\n",
    "  Returns:\n",
    "      A list of lists, where each inner list represents a data point.\n",
    "  \"\"\"\n",
    "  data = []\n",
    "  row_count = 0\n",
    "  with open(filename, 'r') as csvfile:\n",
    "    reader = csv.DictReader(csvfile)\n",
    "    for row in reader:\n",
    "      data.append(row)\n",
    "      row_count += 1\n",
    "      if max_rows is not None and row_count >= max_rows:\n",
    "        break\n",
    "  return data"
   ]
  },
  {
   "cell_type": "markdown",
   "metadata": {
    "id": "FMpHH2Ce9lOm"
   },
   "source": [
    "### Question 3:  Call the function above to open the `taxidata.csv` file with a max of 500 rows\n",
    "Hint:  Be sure to copy the right file path"
   ]
  },
  {
   "cell_type": "code",
   "execution_count": 5,
   "metadata": {
    "id": "KOCqVlZX9gOl"
   },
   "outputs": [],
   "source": [
    "# Load the data\n",
    "taxi_data = open_taxi_data('/content/taxidata.csv', max_rows=500)"
   ]
  },
  {
   "cell_type": "code",
   "execution_count": 6,
   "metadata": {
    "colab": {
     "base_uri": "https://localhost:8080/"
    },
    "id": "_HiILq7s-Tir",
    "outputId": "d128c6c4-2d83-4c27-84bd-eccafa21c30c"
   },
   "outputs": [
    {
     "name": "stdout",
     "output_type": "stream",
     "text": [
      "{'': '3', 'trip_distance': '16.97', 'rate_code': '1', 'store_and_fwd_flag': 'N', 'payment_type': '1', 'fare_amount': '49.5', 'extra': '0.0', 'mta_tax': '0.5', 'tip_amount': '5.61', 'tolls_amount': '5.76', 'imp_surcharge': '0.3', 'total_amount': '61.67', 'pickup_location_id': '231', 'dropoff_location_id': '138', 'year': '2018', 'month': '3', 'day': '29', 'day_of_week': '3', 'hour_of_day': '13', 'trip_duration': '3317.0', 'calculated_total_amount': '61.669999999999995'}\n"
     ]
    }
   ],
   "source": [
    "# Run this cell without changes\n",
    "\n",
    "first_row = taxi_data[0]\n",
    "print(first_row)"
   ]
  },
  {
   "cell_type": "markdown",
   "metadata": {
    "id": "DE8WYNDr_8rW"
   },
   "source": [
    "### Question 4:  Return the type of object for `first_row`\n",
    "Hint:  You are using a built-in function"
   ]
  },
  {
   "cell_type": "code",
   "execution_count": 7,
   "metadata": {
    "colab": {
     "base_uri": "https://localhost:8080/"
    },
    "id": "XGfug6D3AKS_",
    "outputId": "1044a335-15dd-4e50-b3bf-c5adca5684e6"
   },
   "outputs": [
    {
     "data": {
      "text/plain": [
       "dict"
      ]
     },
     "execution_count": 7,
     "metadata": {},
     "output_type": "execute_result"
    }
   ],
   "source": [
    "type(first_row)"
   ]
  },
  {
   "cell_type": "markdown",
   "metadata": {
    "id": "U8AyYTx0AWtH"
   },
   "source": [
    "### Question 5:  What is the type of data stored in the `fare_amount` column?\n",
    "\n",
    "Hint:  Since this is a dictionary we have to call the `fare_amount` <b>key</b> within the `type()` function to get a result."
   ]
  },
  {
   "cell_type": "code",
   "execution_count": 8,
   "metadata": {
    "colab": {
     "base_uri": "https://localhost:8080/"
    },
    "id": "R1qnd0zgAyUf",
    "outputId": "04f007fa-b3c0-4172-f0e2-54d93f933e40"
   },
   "outputs": [
    {
     "data": {
      "text/plain": [
       "str"
      ]
     },
     "execution_count": 8,
     "metadata": {},
     "output_type": "execute_result"
    }
   ],
   "source": [
    "type(first_row['fare_amount'])"
   ]
  },
  {
   "cell_type": "markdown",
   "metadata": {
    "id": "BtXbLqekhwLo"
   },
   "source": [
    "### Question 6:  Create a defined function called `calculate_fare` that takes the arguments of `distance` and `rate` and returns the fare (distance multiplied by rate)"
   ]
  },
  {
   "cell_type": "code",
   "execution_count": null,
   "metadata": {
    "colab": {
     "base_uri": "https://localhost:8080/"
    },
    "id": "lY-V2oW8lOCL",
    "outputId": "79cb3451-abca-4f53-a2c4-552e8460c51a"
   },
   "outputs": [
    {
     "data": {
      "text/plain": [
       "49.5"
      ]
     },
     "execution_count": 10,
     "metadata": {},
     "output_type": "execute_result"
    }
   ],
   "source": [
    "# Run this cell without changes -- but what is the code doing?\n",
    "\n",
    "float(first_row['fare_amount'])\n",
    "float(first_row['trip_distance'])\n"
   ]
  },
  {
   "cell_type": "code",
   "execution_count": 11,
   "metadata": {
    "id": "Ady-0HJRht7i"
   },
   "outputs": [],
   "source": [
    "# Fill in None with the appropiate calculation\n",
    "\n",
    "def calculate_fare(distance, fare_amount):\n",
    "  \"\"\"Calculates the fare based on distance and rate.\n",
    "\n",
    "  Args:\n",
    "      distance: Trip distance (float).\n",
    "      rate: Fare rate (float).\n",
    "\n",
    "  Returns:\n",
    "      The calculated fare (float).\n",
    "  \"\"\"\n",
    "\n",
    "# Implement the fare calculation that is distance multiplied by rate\n",
    "\n",
    "  fare = None\n",
    "  return fare"
   ]
  }
 ],
 "metadata": {
  "colab": {
   "provenance": []
  },
  "kernelspec": {
   "display_name": "Python 3 (ipykernel)",
   "language": "python",
   "name": "python3"
  },
  "language_info": {
   "codemirror_mode": {
    "name": "ipython",
    "version": 3
   },
   "file_extension": ".py",
   "mimetype": "text/x-python",
   "name": "python",
   "nbconvert_exporter": "python",
   "pygments_lexer": "ipython3",
   "version": "3.12.4"
  }
 },
 "nbformat": 4,
 "nbformat_minor": 4
}
