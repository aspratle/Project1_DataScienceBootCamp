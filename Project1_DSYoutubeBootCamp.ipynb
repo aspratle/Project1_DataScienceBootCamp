{
  "nbformat": 4,
  "nbformat_minor": 0,
  "metadata": {
    "colab": {
      "provenance": []
    },
    "kernelspec": {
      "name": "python3",
      "display_name": "Python 3"
    },
    "language_info": {
      "name": "python"
    }
  },
  "cells": [
    {
      "cell_type": "markdown",
      "source": [
        "# Project 1:  Python Data Structures"
      ],
      "metadata": {
        "id": "d-GDdO3Y8--B"
      }
    },
    {
      "cell_type": "markdown",
      "source": [
        "## Overview"
      ],
      "metadata": {
        "id": "WuyLOEDL9Hiy"
      }
    },
    {
      "cell_type": "markdown",
      "source": [
        "This notebook is to practice hands-on learning of python data types (ints, strings, booleans, etc.), data structures (lists, dictionaries, tuples), functions, and loops."
      ],
      "metadata": {
        "id": "ImyJBh0jrf-1"
      }
    },
    {
      "cell_type": "markdown",
      "source": [
        "### Question 1:  In the cell below import the CSV module"
      ],
      "metadata": {
        "id": "1tE6Fzmg83hR"
      }
    },
    {
      "cell_type": "code",
      "source": [
        "#Import the csv module\n"
      ],
      "metadata": {
        "id": "Wm0HxEFA8tog"
      },
      "execution_count": 2,
      "outputs": []
    },
    {
      "cell_type": "markdown",
      "source": [
        "### Question 2:  Fill in the blanks in the code below to open the csv file and store each row in the file in the empty list called `data` use the `DictReader` method to open the file and assign it to `reader`"
      ],
      "metadata": {
        "id": "i9iLJmgp9KKd"
      }
    },
    {
      "cell_type": "code",
      "source": [
        "def open_taxi_data(filename, max_rows=None):\n",
        "  \"\"\"Opens the taxi trip data file and returns a list of rows.\n",
        "\n",
        "  Args:\n",
        "      filename: The path to the CSV file.\n",
        "      max_rows: Maximum number of rows to read (default: None for all rows).\n",
        "\n",
        "  Returns:\n",
        "      A list of lists, where each inner list represents a data point.\n",
        "  \"\"\"\n",
        "  data = []\n",
        "  row_count = 0\n",
        "  with open(filename, 'r') as csvfile:\n",
        "    reader = csv._______(csvfile)\n",
        "    for ____ in reader:\n",
        "      data.append(row)\n",
        "      row_count += 1\n",
        "      if max_rows is not None and row_count >= max_rows:\n",
        "        break\n",
        "  return data"
      ],
      "metadata": {
        "id": "iv7F2Ql58oe2"
      },
      "execution_count": 4,
      "outputs": []
    },
    {
      "cell_type": "markdown",
      "source": [
        "### Question 3:  Call the function above to open the `taxidata.csv` file with a max of 500 rows\n",
        "Hint:  Be sure to copy the right file path"
      ],
      "metadata": {
        "id": "FMpHH2Ce9lOm"
      }
    },
    {
      "cell_type": "code",
      "source": [
        "# Load the data using the function above\n",
        "taxi_data = None"
      ],
      "metadata": {
        "id": "KOCqVlZX9gOl"
      },
      "execution_count": 5,
      "outputs": []
    },
    {
      "cell_type": "code",
      "source": [
        "# Run this cell without changes\n",
        "\n",
        "first_row = taxi_data[0]\n",
        "print(first_row)"
      ],
      "metadata": {
        "id": "_HiILq7s-Tir",
        "collapsed": true
      },
      "execution_count": null,
      "outputs": []
    },
    {
      "cell_type": "markdown",
      "source": [
        "### Question 4:  Return the type of object for `first_row`\n",
        "Hint:  You are using a built-in function"
      ],
      "metadata": {
        "id": "DE8WYNDr_8rW"
      }
    },
    {
      "cell_type": "code",
      "source": [
        "None"
      ],
      "metadata": {
        "id": "XGfug6D3AKS_",
        "collapsed": true
      },
      "execution_count": null,
      "outputs": []
    },
    {
      "cell_type": "markdown",
      "source": [
        "### Question 5:  What is the type of data stored in the `fare_amount` column?\n",
        "\n",
        "Hint:  Since this is a dictionary we have to call the `fare_amount` <b>key</b> within the `type()` function to get a result."
      ],
      "metadata": {
        "id": "U8AyYTx0AWtH"
      }
    },
    {
      "cell_type": "code",
      "source": [
        "None"
      ],
      "metadata": {
        "id": "R1qnd0zgAyUf"
      },
      "execution_count": null,
      "outputs": []
    },
    {
      "cell_type": "markdown",
      "source": [
        "### Question 6:  Create a defined function called `calculate_fare` that takes the arguments of `distance` and `rate` and returns the fare (distance multiplied by rate)"
      ],
      "metadata": {
        "id": "BtXbLqekhwLo"
      }
    },
    {
      "cell_type": "code",
      "source": [
        "# Run this cell without changes -- but what is the code doing?\n",
        "\n",
        "float(first_row['fare_amount'])\n",
        "float(first_row['trip_distance'])\n"
      ],
      "metadata": {
        "id": "lY-V2oW8lOCL"
      },
      "execution_count": null,
      "outputs": []
    },
    {
      "cell_type": "code",
      "source": [
        "# Fill in None with the appropiate calculation\n",
        "\n",
        "def calculate_fare(distance, fare_amount):\n",
        "  \"\"\"Calculates the fare based on distance and rate.\n",
        "\n",
        "  Args:\n",
        "      distance: Trip distance (float).\n",
        "      rate: Fare rate (float).\n",
        "\n",
        "  Returns:\n",
        "      The calculated fare (float).\n",
        "  \"\"\"\n",
        "\n",
        "# Implement the fare calculation that is distance multiplied by rate\n",
        "\n",
        "  fare = None\n",
        "  return fare"
      ],
      "metadata": {
        "id": "Ady-0HJRht7i"
      },
      "execution_count": 11,
      "outputs": []
    }
  ]
}